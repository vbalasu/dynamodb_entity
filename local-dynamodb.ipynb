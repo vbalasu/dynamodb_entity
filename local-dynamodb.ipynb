{
 "cells": [
  {
   "cell_type": "markdown",
   "id": "2cff984f-139e-4ec8-81e7-ec59942863a7",
   "metadata": {},
   "source": [
    "# local-dynamodb\n",
    "\n",
    "You can spin up a local Dynamodb server for testing by following these instructions: https://docs.aws.amazon.com/amazondynamodb/latest/developerguide/DynamoDBLocal.html"
   ]
  },
  {
   "cell_type": "code",
   "execution_count": 1,
   "id": "f8c09e20-f7c9-4f97-87a9-8504650f4c57",
   "metadata": {},
   "outputs": [],
   "source": [
    "import boto3\n",
    "session = boto3.Session(profile_name='fake')\n",
    "dynamodb = session.client('dynamodb', endpoint_url='http://localhost:8000')"
   ]
  },
  {
   "cell_type": "code",
   "execution_count": 2,
   "id": "4ff4b043-c5fe-434b-9bc6-25999fc148ce",
   "metadata": {},
   "outputs": [],
   "source": [
    "try:\n",
    "    dynamodb.delete_table(TableName='items')\n",
    "except:\n",
    "    print('Table does not exist')"
   ]
  },
  {
   "cell_type": "code",
   "execution_count": 3,
   "id": "97004ff9-d935-4a13-8897-7d11f6aaecd1",
   "metadata": {},
   "outputs": [
    {
     "data": {
      "text/plain": [
       "{'TableDescription': {'AttributeDefinitions': [{'AttributeName': 'id',\n",
       "    'AttributeType': 'S'}],\n",
       "  'TableName': 'items',\n",
       "  'KeySchema': [{'AttributeName': 'id', 'KeyType': 'HASH'}],\n",
       "  'TableStatus': 'ACTIVE',\n",
       "  'CreationDateTime': datetime.datetime(2022, 8, 17, 19, 21, 19, 193000, tzinfo=tzlocal()),\n",
       "  'ProvisionedThroughput': {'LastIncreaseDateTime': datetime.datetime(1969, 12, 31, 16, 0, tzinfo=tzlocal()),\n",
       "   'LastDecreaseDateTime': datetime.datetime(1969, 12, 31, 16, 0, tzinfo=tzlocal()),\n",
       "   'NumberOfDecreasesToday': 0,\n",
       "   'ReadCapacityUnits': 0,\n",
       "   'WriteCapacityUnits': 0},\n",
       "  'TableSizeBytes': 0,\n",
       "  'ItemCount': 0,\n",
       "  'TableArn': 'arn:aws:dynamodb:ddblocal:000000000000:table/items',\n",
       "  'BillingModeSummary': {'BillingMode': 'PAY_PER_REQUEST',\n",
       "   'LastUpdateToPayPerRequestDateTime': datetime.datetime(2022, 8, 17, 19, 21, 19, 193000, tzinfo=tzlocal())}},\n",
       " 'ResponseMetadata': {'RequestId': 'f87c9d9c-6770-452b-9eec-907643ca3aa6',\n",
       "  'HTTPStatusCode': 200,\n",
       "  'HTTPHeaders': {'date': 'Thu, 18 Aug 2022 02:21:19 GMT',\n",
       "   'content-type': 'application/x-amz-json-1.0',\n",
       "   'x-amz-crc32': '3966292163',\n",
       "   'x-amzn-requestid': 'f87c9d9c-6770-452b-9eec-907643ca3aa6',\n",
       "   'content-length': '580',\n",
       "   'server': 'Jetty(9.4.43.v20210629)'},\n",
       "  'RetryAttempts': 0}}"
      ]
     },
     "execution_count": 3,
     "metadata": {},
     "output_type": "execute_result"
    }
   ],
   "source": [
    "dynamodb.create_table(AttributeDefinitions=[\n",
    "          {\n",
    "              'AttributeName': 'id',\n",
    "              'AttributeType': 'S'\n",
    "          },\n",
    "      ],\n",
    "      TableName='items',\n",
    "      KeySchema=[\n",
    "          {\n",
    "              'AttributeName': 'id',\n",
    "              'KeyType': 'HASH'\n",
    "          }\n",
    "      ],\n",
    "      BillingMode='PAY_PER_REQUEST')"
   ]
  },
  {
   "cell_type": "code",
   "execution_count": 4,
   "id": "e33c96cc-ea0a-46f5-bcee-4beb5e08bde1",
   "metadata": {},
   "outputs": [
    {
     "data": {
      "text/plain": [
       "{'TableNames': ['items'],\n",
       " 'ResponseMetadata': {'RequestId': '69d0f427-1ebf-46fc-a2d8-9ea9c0a56d9d',\n",
       "  'HTTPStatusCode': 200,\n",
       "  'HTTPHeaders': {'date': 'Thu, 18 Aug 2022 02:21:19 GMT',\n",
       "   'content-type': 'application/x-amz-json-1.0',\n",
       "   'x-amz-crc32': '2875742288',\n",
       "   'x-amzn-requestid': '69d0f427-1ebf-46fc-a2d8-9ea9c0a56d9d',\n",
       "   'content-length': '24',\n",
       "   'server': 'Jetty(9.4.43.v20210629)'},\n",
       "  'RetryAttempts': 0}}"
      ]
     },
     "execution_count": 4,
     "metadata": {},
     "output_type": "execute_result"
    }
   ],
   "source": [
    "dynamodb.list_tables()"
   ]
  },
  {
   "cell_type": "code",
   "execution_count": 5,
   "id": "003dae46-6c53-4e24-a82c-6df8f7f024dd",
   "metadata": {},
   "outputs": [
    {
     "data": {
      "text/plain": [
       "{'Items': [],\n",
       " 'ResponseMetadata': {'RequestId': 'd7f4eab2-997e-416d-a3a6-03ad854ed157',\n",
       "  'HTTPStatusCode': 200,\n",
       "  'HTTPHeaders': {'date': 'Thu, 18 Aug 2022 02:21:19 GMT',\n",
       "   'content-type': 'application/x-amz-json-1.0',\n",
       "   'x-amz-crc32': '2770214093',\n",
       "   'x-amzn-requestid': 'd7f4eab2-997e-416d-a3a6-03ad854ed157',\n",
       "   'content-length': '12',\n",
       "   'server': 'Jetty(9.4.43.v20210629)'},\n",
       "  'RetryAttempts': 0}}"
      ]
     },
     "execution_count": 5,
     "metadata": {},
     "output_type": "execute_result"
    }
   ],
   "source": [
    "response = dynamodb.execute_statement(Statement=\"INSERT INTO items VALUE {'id': 'hello', 'data': 'world'}\")\n",
    "response"
   ]
  },
  {
   "cell_type": "code",
   "execution_count": 6,
   "id": "132eb43c-fe4a-4b6a-bead-62d62523e043",
   "metadata": {},
   "outputs": [
    {
     "data": {
      "text/plain": [
       "{'Items': [{'data': {'S': 'world'}, 'id': {'S': 'hello'}}],\n",
       " 'ResponseMetadata': {'RequestId': '2e11cc5a-85d3-468b-bf68-4101c90c7015',\n",
       "  'HTTPStatusCode': 200,\n",
       "  'HTTPHeaders': {'date': 'Thu, 18 Aug 2022 02:21:19 GMT',\n",
       "   'content-type': 'application/x-amz-json-1.0',\n",
       "   'x-amz-crc32': '2978291875',\n",
       "   'x-amzn-requestid': '2e11cc5a-85d3-468b-bf68-4101c90c7015',\n",
       "   'content-length': '53',\n",
       "   'server': 'Jetty(9.4.43.v20210629)'},\n",
       "  'RetryAttempts': 0}}"
      ]
     },
     "execution_count": 6,
     "metadata": {},
     "output_type": "execute_result"
    }
   ],
   "source": [
    "response = dynamodb.execute_statement(Statement=\"SELECT * FROM items WHERE id='hello';\")\n",
    "response"
   ]
  }
 ],
 "metadata": {
  "kernelspec": {
   "display_name": "Python 3 (ipykernel)",
   "language": "python",
   "name": "python3"
  },
  "language_info": {
   "codemirror_mode": {
    "name": "ipython",
    "version": 3
   },
   "file_extension": ".py",
   "mimetype": "text/x-python",
   "name": "python",
   "nbconvert_exporter": "python",
   "pygments_lexer": "ipython3",
   "version": "3.9.7"
  }
 },
 "nbformat": 4,
 "nbformat_minor": 5
}
